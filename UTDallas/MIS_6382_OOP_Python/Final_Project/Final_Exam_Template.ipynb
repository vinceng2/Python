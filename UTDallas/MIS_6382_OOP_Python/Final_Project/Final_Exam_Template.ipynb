{
 "cells": [
  {
   "cell_type": "markdown",
   "metadata": {},
   "source": [
    "### Final Exam Code Template ###\n",
    "__This template will guide you to complete the final exam. Grading rubrics are also provided.__\n",
    "\n",
    "__Please follow the guidelines closely when you type in your own code and test your program.__\n",
    "\n",
    "__Before working on your own code, save the template as \"Final_firstname_lastname\" so you don't change the original file and can refer to the template when necessary.__\n",
    "\n",
    "__The number of arguments mentioned below doesn't count \"self\".__"
   ]
  },
  {
   "cell_type": "code",
   "execution_count": 1,
   "metadata": {},
   "outputs": [],
   "source": [
    "#define your own Vehicle class here\n",
    "#the order of the four required positional arguments should be: make,model,year,mileage\n",
    "#please use the conventional way to define function names and refer to the following test to adjust function names \n",
    "#no need to handle exceptions here\n",
    "\n",
    "class Vehicle:\n",
    "    \n",
    "    #type in your code\n"
   ]
  },
  {
   "cell_type": "code",
   "execution_count": 2,
   "metadata": {},
   "outputs": [
    {
     "name": "stdout",
     "output_type": "stream",
     "text": [
      "Make: Honda; Model: Civic; Year of Manufacture: 2014; Mileage: 50000\n",
      "The mileage of this vehicle is: 50000\n",
      "The year of manufacture of this vehicle is: 2012\n"
     ]
    }
   ],
   "source": [
    "#do a quick test on the Vehicle class before moving forward (5 points)\n",
    "#don't change this code\n",
    "vehicle1=Vehicle(\"Honda\",\"Civic\",2014,50000)\n",
    "print(vehicle1)\n",
    "print(\"The mileage of this vehicle is:\", vehicle1.get_mileage())\n",
    "vehicle1.set_year(2012)\n",
    "print(\"The year of manufacture of this vehicle is:\", vehicle1.get_year())"
   ]
  },
  {
   "cell_type": "code",
   "execution_count": 3,
   "metadata": {},
   "outputs": [],
   "source": [
    "#define your own Employee class here\n",
    "#the order of the three required positional arguments should be: name,address,vehicle object\n",
    "#please use the conventional way to define function names and refer to the following test to adjust function names\n",
    "#use emp for short of employee in naming attributes and functions\n",
    "#no need to handle exceptions here\n",
    "\n",
    "class Employee:\n",
    "\n",
    "    #type in your code"
   ]
  },
  {
   "cell_type": "code",
   "execution_count": 4,
   "metadata": {},
   "outputs": [
    {
     "name": "stdout",
     "output_type": "stream",
     "text": [
      "\n",
      "Employee Name: Amy; Employee Address: 100 W Campbell Road, Richardson, Texas, 75080\n",
      "Make: Honda; Model: Civic; Year of Manufacture: 2012; Mileage: 50000\n",
      "Amy lives at 100 W Campbell Road, Richardson, Texas, 75080.\n",
      "Amy owns a Honda Civic vehicle.\n",
      "Amy lives at 800 E Campbell Road, Richardson, Texas, 75080.\n"
     ]
    }
   ],
   "source": [
    "#do a quick test on the Employee class before moving forward (5 points)\n",
    "#don't change this code\n",
    "emp1=Employee(\"Amy\", \"100 W Campbell Road, Richardson, Texas, 75080\",vehicle1)\n",
    "print(emp1)\n",
    "print(\"{0} lives at {1}.\".format(emp1.get_emp_name(),emp1.get_emp_addr()))\n",
    "print(\"{0} owns a {1} {2} vehicle.\".format(emp1.get_emp_name(),emp1.get_vehicle().get_make(),emp1.get_vehicle().get_model()))\n",
    "emp1.set_emp_addr(\"800 E Campbell Road, Richardson, Texas, 75080\")\n",
    "print(\"{0} lives at {1}.\".format(emp1.get_emp_name(),emp1.get_emp_addr()))"
   ]
  },
  {
   "cell_type": "code",
   "execution_count": 5,
   "metadata": {},
   "outputs": [],
   "source": [
    "#define your own Full Time Employee class here\n",
    "#Full Time Employee class inherits from Employee class\n",
    "#the order of the four required positional arguments should be: name,address,vehicle object,salary\n",
    "#please use the conventional way to define function names and refer to the following test to adjust function names\n",
    "#see detailed requirements on compute_compensation() function and compute_reimbursement() function in the pdf file\n",
    "#no need to handle exceptions here\n",
    "\n",
    "class FullTimeEmployee(Employee):\n",
    "\n",
    "    #type in your code"
   ]
  },
  {
   "cell_type": "code",
   "execution_count": 6,
   "metadata": {},
   "outputs": [
    {
     "name": "stdout",
     "output_type": "stream",
     "text": [
      "\n",
      "Details of this Full Time Employee are:\n",
      "Employee Name: Amy; Employee Address: 100 W Campbell Road, Richardson, Texas, 75080\n",
      "Make: Honda; Model: Civic; Year of Manufacture: 2012; Mileage: 50000\n",
      "Salary: 40000.00\n",
      "Amy has an annual salary of $40000.\n",
      "Amy has a weekly compensation of $630.77.\n",
      "Amy has a weekly reimbursement of $211.54.\n",
      "Amy has an annual salary of $50000.\n"
     ]
    }
   ],
   "source": [
    "#do a quick test on the Full Time Employee class before moving forward (5 points)\n",
    "#don't change this code\n",
    "emp2=FullTimeEmployee(\"Amy\", \"100 W Campbell Road, Richardson, Texas, 75080\", vehicle1, 40000)\n",
    "print(emp2)\n",
    "print(\"{0} has an annual salary of ${1}.\".format(emp2.get_emp_name(),emp2.get_salary()))\n",
    "print(\"{0} has a weekly compensation of ${1:0.2f}.\".format(emp2.get_emp_name(),emp2.compute_compensation()))\n",
    "print(\"{0} has a weekly reimbursement of ${1:0.2f}.\".format(emp2.get_emp_name(),emp2.compute_reimbursement(12000)))\n",
    "emp2.set_salary(50000)\n",
    "print(\"{0} has an annual salary of ${1}.\".format(emp2.get_emp_name(),emp2.get_salary()))\n"
   ]
  },
  {
   "cell_type": "code",
   "execution_count": 8,
   "metadata": {},
   "outputs": [],
   "source": [
    "#define your own Hourly Employee class here\n",
    "#Hourly Employee class inherits from Employee class\n",
    "#the order of the five required positional arguments should be: name,address,vehicle object,hours worked,hourly rate\n",
    "#please use the conventional way to define function names and refer to the following test to adjust function names\n",
    "#see detailed requirements on compute_compensation() function and compute_reimbursement() function in the pdf file\n",
    "#no need to handle exceptions here\n",
    "\n",
    "class HourlyEmployee(Employee):\n",
    "\n",
    "    #type in your code"
   ]
  },
  {
   "cell_type": "code",
   "execution_count": 9,
   "metadata": {},
   "outputs": [
    {
     "name": "stdout",
     "output_type": "stream",
     "text": [
      "\n",
      "Details of this Hourly Employee are:\n",
      "Employee Name: Grace; Employee Address: 400 W Campbell Road, Richardson, Texas, 75080\n",
      "Make: Honda; Model: Civic; Year of Manufacture: 2012; Mileage: 50000\n",
      "Hours Worked: 50; Hourly Rate: 20\n",
      "Grace works 50 hours per week at an hourly rate of $20.\n",
      "Grace has a weekly compensation of $1160.00.\n",
      "Grace has a weekly reimbursement of $100.00.\n",
      "Grace works 50 hours per week at an hourly rate of $22.\n"
     ]
    }
   ],
   "source": [
    "#do a quick test on the Hourly Employee class before moving forward (5 points)\n",
    "#don't change this code\n",
    "emp3=HourlyEmployee(\"Grace\", \"400 W Campbell Road, Richardson, Texas, 75080\", vehicle1,50,20)\n",
    "print(emp3)\n",
    "print(\"{0} works {1} hours per week at an hourly rate of ${2}.\".format(emp3.get_emp_name(),emp3.get_hours_worked(),emp3.get_hourly_rate()))\n",
    "print(\"{0} has a weekly compensation of ${1:0.2f}.\".format(emp3.get_emp_name(),emp3.compute_compensation()))\n",
    "print(\"{0} has a weekly reimbursement of ${1:0.2f}.\".format(emp3.get_emp_name(),emp3.compute_reimbursement(120)))\n",
    "emp3.set_hourly_rate(22)\n",
    "print(\"{0} works {1} hours per week at an hourly rate of ${2}.\".format(emp3.get_emp_name(),emp3.get_hours_worked(),emp3.get_hourly_rate()))\n"
   ]
  },
  {
   "cell_type": "code",
   "execution_count": 11,
   "metadata": {},
   "outputs": [],
   "source": [
    "#define your own Consultant class here\n",
    "#Consultant class inherits from Employee class\n",
    "#the order of the five required positional arguments should be: name,address,vehicle object,hours worked,project type\n",
    "#please use the conventional way to define function names and refer to the following test to adjust function names\n",
    "#see detailed requirements on compute_compensation() function and compute_reimbursement() function in the pdf file\n",
    "#no need to handle exceptions here\n",
    "\n",
    "class Consultant(Employee):\n",
    "\n",
    "    #type in your code"
   ]
  },
  {
   "cell_type": "code",
   "execution_count": 12,
   "metadata": {},
   "outputs": [
    {
     "name": "stdout",
     "output_type": "stream",
     "text": [
      "\n",
      "Details of this Consultant are:\n",
      "Employee Name: Michael; Employee Address: 700 W Campbell Road, Richardson, Texas, 75080\n",
      "Make: Honda; Model: Civic; Year of Manufacture: 2012; Mileage: 50000\n",
      "Hours Worked: 40; Project Type: 2\n",
      "Michael works 40 hours per week for type 2 project.\n",
      "Michael has a weekly compensation of $2800.00.\n",
      "Michael has a weekly reimbursement of $270.00.\n",
      "Michael works 35 hours per week for type 2 project.\n"
     ]
    }
   ],
   "source": [
    "#do a quick test on the Consultant class before moving forward (5 points)\n",
    "#don't change this code\n",
    "emp4=Consultant(\"Michael\", \"700 W Campbell Road, Richardson, Texas, 75080\",vehicle1,40,2)\n",
    "print(emp4)\n",
    "print(\"{0} works {1} hours per week for type {2} project.\".format(emp4.get_emp_name(),emp4.get_hours_worked(),emp4.get_project_type()))\n",
    "print(\"{0} has a weekly compensation of ${1:0.2f}.\".format(emp4.get_emp_name(),emp4.compute_compensation()))\n",
    "print(\"{0} has a weekly reimbursement of ${1:0.2f}.\".format(emp4.get_emp_name(),emp4.compute_reimbursement(300)))\n",
    "emp4.set_hours_worked(35)\n",
    "print(\"{0} works {1} hours per week for type {2} project.\".format(emp4.get_emp_name(),emp4.get_hours_worked(),emp4.get_project_type()))\n"
   ]
  },
  {
   "cell_type": "code",
   "execution_count": 13,
   "metadata": {},
   "outputs": [],
   "source": [
    "#define your own Management class here\n",
    "#Management class inherits from both Full Time Employee class and Consultant class\n",
    "#the order of the six required positional arguments should be: name, address,vehicle object, salary, hours worked, project type\n",
    "#please use the conventional way to define function names and refer to the following test to adjust function names\n",
    "#see detailed requirements on compute_compensation() function and compute_reimbursement() function in the pdf file\n",
    "#no need to handle exceptions here\n",
    "\n",
    "class Management(FullTimeEmployee,Consultant):\n",
    "\n",
    "    #type in your code"
   ]
  },
  {
   "cell_type": "code",
   "execution_count": 15,
   "metadata": {},
   "outputs": [
    {
     "name": "stdout",
     "output_type": "stream",
     "text": [
      "\n",
      "Details of this Management are:\n",
      "Employee Name: Jane; Employee Address: 1000 W Campbell Road, Richardson, Texas, 75080\n",
      "Make: Honda; Model: Civic; Year of Manufacture: 2012; Mileage: 50000\n",
      "Salary: 120000.00; Hours Worked: 10; Project Type: 3\n",
      "\n",
      "\n",
      "Jane has an annual salary of $120000.\n",
      "Jane works 10 hours per week for type 3 project.\n",
      "Jane has a weekly compensation of $2561.54.\n",
      "Jane has a weekly reimbursement of $393.85.\n"
     ]
    }
   ],
   "source": [
    "#do a quick test on the Management class before moving forward (5 points)\n",
    "#don't change this code\n",
    "emp5=Management(\"Jane\", \"1000 W Campbell Road, Richardson, Texas, 75080\",vehicle1,120000,10,3)\n",
    "print(emp5)\n",
    "print(\"\\n\")\n",
    "print(\"{0} has an annual salary of ${1}.\".format(emp5.get_emp_name(),emp5.get_salary()))\n",
    "print(\"{0} works {1} hours per week for type {2} project.\".format(emp5.get_emp_name(),emp5.get_hours_worked(),emp5.get_project_type()))\n",
    "print(\"{0} has a weekly compensation of ${1:0.2f}.\".format(emp5.get_emp_name(),emp5.compute_compensation()))\n",
    "print(\"{0} has a weekly reimbursement of ${1:0.2f}.\".format(emp5.get_emp_name(),emp5.compute_reimbursement(8000,300)))\n"
   ]
  },
  {
   "cell_type": "code",
   "execution_count": 16,
   "metadata": {},
   "outputs": [],
   "source": [
    "#complete this get_emp_input() function to prepare for the main menu application\n",
    "#this function is used to ask for basic employee information and then return them: name and address\n",
    "#this function doesn't take arguement(s)\n",
    "#no need to handle exceptions here\n",
    "def get_emp_input():\n",
    "    #type in your code"
   ]
  },
  {
   "cell_type": "code",
   "execution_count": 17,
   "metadata": {},
   "outputs": [
    {
     "name": "stdout",
     "output_type": "stream",
     "text": [
      "Enter the employee's name: Bob\n",
      "Enter the employee's address: 350 E Campbell Road, Richardson, Texas, 75080\n",
      "Bob lives at 350 E Campbell Road, Richardson, Texas, 75080.\n"
     ]
    }
   ],
   "source": [
    "#do a quick test on the get_emp_input() function before moving forward\n",
    "#don't change this code and please use the example input\n",
    "#example input: Bob; 350 E Campbell Road, Richardson, Texas, 75080\n",
    "name, address=get_emp_input()\n",
    "print(\"{0} lives at {1}.\".format(name,address))"
   ]
  },
  {
   "cell_type": "code",
   "execution_count": 18,
   "metadata": {},
   "outputs": [],
   "source": [
    "#complete this get_vehicle_input() function to prepare for the main menu application\n",
    "#this function is used to ask for vehicle information and then return them: make,model,year,mileage\n",
    "#this function doesn't take arguement(s)\n",
    "#no need to handle exceptions of make input and model input\n",
    "#handle exceptions to make sure year is a 4-digit positive number between 1900 and 2020\n",
    "#handle exceptions to make sure mileage is a positive number\n",
    "def get_vehicle_input():\n",
    "    veh_make = input('Enter the vehicle make: ')\n",
    "    veh_model = input('Enter the vehicle model: ')\n",
    "\n",
    "    #type in your cide\n",
    "\n",
    "    return (veh_make, veh_model, veh_year, veh_mileage)"
   ]
  },
  {
   "cell_type": "code",
   "execution_count": 19,
   "metadata": {},
   "outputs": [
    {
     "name": "stdout",
     "output_type": "stream",
     "text": [
      "Enter the vehicle make: Ford\n",
      "Enter the vehicle model: Ranger\n",
      "Enter the year of manufacture (yyyy): 2021\n",
      "\n",
      "Please enter an integer value for year in the format of yyyy between 1900 and 2020.\n",
      "Enter the year of manufacture (yyyy): 2011\n",
      "Enter the mileage: 80000\n",
      "The vehicle entered is a Ford Ranger made in 2011 with 80000 mileage curently.\n"
     ]
    }
   ],
   "source": [
    "#do a quick test on the get_vehicle_input() function before moving forward (5 points)\n",
    "#don't change this code and please use the example input\n",
    "#example input:Ford; Ranger; 2021 (when asked to enter again enter 2011); 80000\n",
    "vehiclemake, vehiclemodel, vehicleyear, vehiclemileage = get_vehicle_input()  \n",
    "print(\"The vehicle entered is a {0} {1} made in {2} with {3} mileage curently.\".format(vehiclemake, vehiclemodel, vehicleyear, vehiclemileage))"
   ]
  },
  {
   "cell_type": "code",
   "execution_count": 20,
   "metadata": {},
   "outputs": [],
   "source": [
    "#complete this get_full_time_input() function to prepare for the main menu application\n",
    "#this function is used to ask for specific information of full time employees and then return it: annual salary\n",
    "#this function doesn't take arguement(s)\n",
    "#no need to handle exceptions\n",
    "def get_full_time_input():\n",
    "    #type in your code"
   ]
  },
  {
   "cell_type": "code",
   "execution_count": 21,
   "metadata": {},
   "outputs": [
    {
     "name": "stdout",
     "output_type": "stream",
     "text": [
      "Enter the annual salary: 80000\n",
      "The annual salary entered is 80000.00\n"
     ]
    }
   ],
   "source": [
    "#do a quick test on the get_full_time_input() function before moving forward\n",
    "#don't change this code and please use the example input\n",
    "#example input:80000\n",
    "salary=get_full_time_input()\n",
    "print(\"The annual salary entered is {0:0.2f}\".format(salary))"
   ]
  },
  {
   "cell_type": "code",
   "execution_count": 22,
   "metadata": {},
   "outputs": [],
   "source": [
    "#complete this get_hourly_input() function to prepare for the main menu application\n",
    "#this function is used to ask for specific information of hourly employees and then return them: hours worked, hourly rate\n",
    "#this function doesn't take arguement(s)\n",
    "#no need to handle exceptions\n",
    "def get_hourly_input():\n",
    "    #type in your code"
   ]
  },
  {
   "cell_type": "code",
   "execution_count": 23,
   "metadata": {},
   "outputs": [
    {
     "name": "stdout",
     "output_type": "stream",
     "text": [
      "Enter the hours worked: 30\n",
      "Enter the hourly rate: 20\n",
      "This hourly employee works 30 hours per week at an hourly rate of $20.00\n"
     ]
    }
   ],
   "source": [
    "#do a quick test on the get_hourly_input() function before moving forward\n",
    "#don't change this code and please use the example input\n",
    "#example input: 30; 20\n",
    "hours_worked, hourly_rate = get_hourly_input()\n",
    "print(\"This hourly employee works {0} hours per week at an hourly rate of ${1:0.2f}\".format(hours_worked,hourly_rate))"
   ]
  },
  {
   "cell_type": "code",
   "execution_count": 24,
   "metadata": {},
   "outputs": [],
   "source": [
    "#complete this get_consultant_input() function to prepare for the main menu application\n",
    "#this function is used to ask for specific information of consultants and then return them: hours worked, project type\n",
    "#this function doesn't take arguement(s)\n",
    "#no need to handle exceptions\n",
    "def get_consultant_input():\n",
    "    #type in your code"
   ]
  },
  {
   "cell_type": "code",
   "execution_count": 25,
   "metadata": {},
   "outputs": [
    {
     "name": "stdout",
     "output_type": "stream",
     "text": [
      "Enter the hours worked: 40\n",
      "Project Type? (Enter a number between 1 and 3): 2\n",
      "This consultant works 40 hours per week for type 2 project.\n"
     ]
    }
   ],
   "source": [
    "#do a quick test on the get_consultant_input() function before moving forward\n",
    "#don't change this code and please use the example input\n",
    "#example input: 40; 2\n",
    "hours_worked, project_type = get_consultant_input()\n",
    "print(\"This consultant works {0} hours per week for type {1} project.\".format(hours_worked,project_type))"
   ]
  },
  {
   "cell_type": "code",
   "execution_count": 26,
   "metadata": {},
   "outputs": [],
   "source": [
    "#complete this get_management_input() function to prepare for the main menu application\n",
    "#this function is used to ask for specific information of managements and then return them: annual salary, hours worked, project type\n",
    "#this function doesn't take arguement(s)\n",
    "#no need to handle exceptions\n",
    "def get_management_input():\n",
    "    #type in your code"
   ]
  },
  {
   "cell_type": "code",
   "execution_count": 28,
   "metadata": {},
   "outputs": [
    {
     "name": "stdout",
     "output_type": "stream",
     "text": [
      "Enter the annual salary: 100000\n",
      "Enter the hours worked: 8\n",
      "Project Type? (Enter a number between 1 and 3): 3\n",
      "This management has an annual salary of $100000.00. This management also works 8 hours per week additionally for type 3 project.\n"
     ]
    }
   ],
   "source": [
    "#do a quick test on the get_management_input() function before moving forward\n",
    "#don't change this code and please use the example input\n",
    "#example input: 100000; 8; 3\n",
    "salary, hours_worked, project_type = get_management_input()\n",
    "print(\"This management has an annual salary of ${0:0.2f}. This management also works {1} hours per week additionally for type {2} project.\".format(salary, hours_worked,project_type))"
   ]
  },
  {
   "cell_type": "code",
   "execution_count": 32,
   "metadata": {},
   "outputs": [],
   "source": [
    "#complete this read_file_data() function to prepare for the main menu application\n",
    "#this function is used to read information from an existing databse/binary file, which is empdata.dat in the final exam\n",
    "#this function doesn't take argument(s)\n",
    "#this function returns a list containing all employee objects stored in the database; each employ object is an element in the list; the list will also be used and updated later\n",
    "#need to handle exceptions if file doesn't exist\n",
    "import pickle\n",
    "def read_file_data():\n",
    "    #type in your code"
   ]
  },
  {
   "cell_type": "code",
   "execution_count": 33,
   "metadata": {},
   "outputs": [
    {
     "name": "stdout",
     "output_type": "stream",
     "text": [
      "There are 9 employees stored in the database.\n",
      "\n",
      "Below is the information of the first employee in the database: \n",
      "Details of this Full Time Employee are:\n",
      "Employee Name: Amy; Employee Address: 100 W Campbell Road, Richardson, Texas, 75080\n",
      "Make: Honda; Model: Civic; Year of Manufacture: 2014; Mileage: 50000\n",
      "Salary: 40000.00\n",
      "\n",
      "Amy is the first employee.\n"
     ]
    }
   ],
   "source": [
    "#do a quick test on the read_file_data() function before moving forward (5 points)\n",
    "#don't change this code\n",
    "emp_list=read_file_data()\n",
    "print(\"There are {} employees stored in the database.\".format(len(emp_list)))\n",
    "print(\"\\nBelow is the information of the first employee in the database: {}\".format(emp_list[0]))\n",
    "print(\"\\n{} is the first employee.\".format(emp_list[0].get_emp_name()))"
   ]
  },
  {
   "cell_type": "code",
   "execution_count": 31,
   "metadata": {},
   "outputs": [],
   "source": [
    "#complete option 1 related code here\n",
    "#the idea is to walk through users to input required information\n",
    "#the first and foremost step is to ask for emloyee type\n",
    "#this function doesn't take arguement(s)\n",
    "#this function prints the entered object and also returns the entered object\n",
    "#some parts are provided so you don't need to change them (but you still can if you want to)\n",
    "\n",
    "def run_option1():\n",
    "    #ask for employee type\n",
    "    #exceptions need to be handled here to accept valid input \n",
    "\n",
    "    ##################\n",
    "    #type in your code\n",
    "    ##################\n",
    "      \n",
    "    #call the previous get_emp_input() to ask for employee information and store the values      \n",
    "    name, address = get_emp_input()\n",
    "    \n",
    "    #call the previous get_vehicle_input() to ask for vehicle information and store the values\n",
    "    vehiclemake, vehiclemodel, vehicleyear, vehiclemileage = get_vehicle_input()    \n",
    "    \n",
    "    #create an object of Vehicle class using the prervious information\n",
    "    a_vehicle = Vehicle(vehiclemake, vehiclemodel, vehicleyear, vehiclemileage)\n",
    "    \n",
    "    #depending on previous input, call the prervious functions to ask for corresponding information\n",
    "    #then use all the required information to create an object of a certain class \n",
    "    #type 1:annual salary\n",
    "    #type 2:hours worked,hourly rate\n",
    "    #type 3:hours worked, project type\n",
    "    #type 4:annual salary, hours worked, project type\n",
    "    if sel == 1:\n",
    "        sal = get_full_time_input()\n",
    "        an_emp = FullTimeEmployee(name, address, a_vehicle,sal)\n",
    "    elif sel == 2:\n",
    "        hw, hr = get_hourly_input()\n",
    "        an_emp = HourlyEmployee(name, address, a_vehicle, hw, hr)\n",
    "    elif sel == 3:\n",
    "        hw, pt = get_consultant_input()\n",
    "        an_emp = Consultant(name, address, a_vehicle, hw, pt)\n",
    "    elif sel ==4:\n",
    "        sal, hw, pt = get_management_input()\n",
    "        an_emp = Management(name, address, a_vehicle, sal, hw, pt)\n",
    "    \n",
    "    print(an_emp)\n",
    "    \n",
    "    print(\"\\n============================================================\")        \n",
    "    print(\"New employee entered successfully! Now going to the main menu.\")\n",
    "    print(\"==============================================================\")     \n",
    "    return an_emp    \n"
   ]
  },
  {
   "cell_type": "code",
   "execution_count": 30,
   "metadata": {},
   "outputs": [
    {
     "name": "stdout",
     "output_type": "stream",
     "text": [
      "Type of Employee?(1-Full Time;2-Hourly;3-Consultant;4-Management) : 5\n",
      "Please select an option from 1, 2, 3, and 4.\n",
      "Type of Employee?(1-Full Time;2-Hourly;3-Consultant;4-Management) : zzz\n",
      "Please select an option from 1, 2, 3, and 4.\n",
      "Type of Employee?(1-Full Time;2-Hourly;3-Consultant;4-Management) : 4\n",
      "Enter the employee's name: David\n",
      "Enter the employee's address: 103 E Campbell Road, Richardson, Texas, 75080\n",
      "Enter the vehicle make: BMW\n",
      "Enter the vehicle model: X3\n",
      "Enter the year of manufacture (yyyy): 2018\n",
      "Enter the mileage: 5000\n",
      "Enter the annual salary: 110000\n",
      "Enter the hours worked: 5\n",
      "Project Type? (Enter a number between 1 and 3): 2\n",
      "\n",
      "Details of this Management are:\n",
      "Employee Name: David; Employee Address: 103 E Campbell Road, Richardson, Texas, 75080\n",
      "Make: BMW; Model: X3; Year of Manufacture: 2018; Mileage: 5000\n",
      "Salary: 110000.00; Hours Worked: 5; Project Type: 2\n",
      "\n",
      "============================================================\n",
      "New employee entered successfully! Now going to the main menu.\n",
      "==============================================================\n"
     ]
    }
   ],
   "source": [
    "#do a quick test on the run_option1() function before moving forward (5 points)\n",
    "#don't change this code and please use the example input\n",
    "#example input: 5 (then zzz then 4); David; 103 E Campbell Road, Richardson, Texas, 75080; BMW; X3;2018;5000;110000;5;2\n",
    "run_option1()"
   ]
  },
  {
   "cell_type": "code",
   "execution_count": 34,
   "metadata": {},
   "outputs": [],
   "source": [
    "#complete option 2 related code here\n",
    "#the function is to print centain number of employees as required by users\n",
    "#first choice:print all employees; second choice: print first 5 employees when there are at least 5 employees (print all if fewer than 5)\n",
    "#this function takes one argument, which is the emp_lst list (i.e. the list created previously which is used to store employee objects)\n",
    "#this function doesn't return anything\n",
    "#needs to handle exceptions when taking user seletions\n",
    "def run_option2(my_lst):\n",
    "    #type in your code"
   ]
  },
  {
   "cell_type": "code",
   "execution_count": 35,
   "metadata": {
    "scrolled": true
   },
   "outputs": [
    {
     "name": "stdout",
     "output_type": "stream",
     "text": [
      "Do you want to see information of all employees (input 1) or the first 5 employees (input 2)?3\n",
      "Please select 1 or 2\n",
      "Do you want to see information of all employees (input 1) or the first 5 employees (input 2)?zzz\n",
      "Please select 1 or 2\n",
      "Do you want to see information of all employees (input 1) or the first 5 employees (input 2)?2\n",
      "==========================================================================\n",
      "Below is the information of the first 5 employees stored in the database.\n",
      "==========================================================================\n",
      "\n",
      "Details of this Full Time Employee are:\n",
      "Employee Name: Amy; Employee Address: 100 W Campbell Road, Richardson, Texas, 75080\n",
      "Make: Honda; Model: Civic; Year of Manufacture: 2014; Mileage: 50000\n",
      "Salary: 40000.00\n",
      "\n",
      "Details of this Full Time Employee are:\n",
      "Employee Name: Bob; Employee Address: 200 W Campbell Road, Richardson, Texas, 75080\n",
      "Make: Toyota; Model: Camry; Year of Manufacture: 2010; Mileage: 60000\n",
      "Salary: 80000.00\n",
      "\n",
      "Details of this Full Time Employee are:\n",
      "Employee Name: Evan; Employee Address: 300 W Campbell Road, Richardson, Texas, 75080\n",
      "Make: BMW; Model: X3; Year of Manufacture: 2016; Mileage: 30000\n",
      "Salary: 120000.00\n",
      "\n",
      "Details of this Hourly Employee are:\n",
      "Employee Name: Grace; Employee Address: 400 W Campbell Road, Richardson, Texas, 75080\n",
      "Make: Kia; Model: Rio; Year of Manufacture: 2005; Mileage: 150000\n",
      "Hours Worked: 50; Hourly Rate: 20\n",
      "\n",
      "Details of this Hourly Employee are:\n",
      "Employee Name: James; Employee Address: 500 W Campbell Road, Richardson, Texas, 75080\n",
      "Make: Mazda; Model: Mazda3; Year of Manufacture: 2010; Mileage: 80000\n",
      "Hours Worked: 30; Hourly Rate: 25\n"
     ]
    }
   ],
   "source": [
    "#do a quick test on run_option2() function before moving forward (5 points)\n",
    "#don't change this code and please use the example input\n",
    "#example input: 3 (then zzz then 2)\n",
    "run_option2(emp_list)"
   ]
  },
  {
   "cell_type": "code",
   "execution_count": 36,
   "metadata": {},
   "outputs": [],
   "source": [
    "#complete option 3 related code here\n",
    "#the function is used to print compensations of all Employees\n",
    "#this function takes one argument, which is the emp_lst list (i.e. the list created previously which is used to store employee objects)\n",
    "#this function doesn't return anything\n",
    "#no need to handle exceptions\n",
    "def run_option3(my_lst):\n",
    "    print(\"\\nEmployee name and Compensation of all Employees\")\n",
    "    print(\"=================================================\")\n",
    "    \n",
    "    #type in your code "
   ]
  },
  {
   "cell_type": "code",
   "execution_count": 37,
   "metadata": {},
   "outputs": [
    {
     "name": "stdout",
     "output_type": "stream",
     "text": [
      "\n",
      "Employee name and Compensation of all Employees\n",
      "=================================================\n",
      "Amy's weekly compensation is $630.77\n",
      "Bob's weekly compensation is $1194.23\n",
      "Evan's weekly compensation is $1711.54\n",
      "Grace's weekly compensation is $1160.00\n",
      "James's weekly compensation is $750.00\n",
      "Luna's weekly compensation is $300.00\n",
      "Michael's weekly compensation is $2200.00\n",
      "Tom's weekly compensation is $3500.00\n",
      "Zoey's weekly compensation is $2550.00\n"
     ]
    }
   ],
   "source": [
    "#do a quick test on run_option3() function before moving forward (5 points)\n",
    "#don't change this code and please use the example input\n",
    "run_option3(emp_list)"
   ]
  },
  {
   "cell_type": "code",
   "execution_count": 38,
   "metadata": {},
   "outputs": [],
   "source": [
    "#complete option 4 related code here\n",
    "#the function is used to search for an employee by name and the searching is NOT case sensitive\n",
    "#if there are some matching cases, print the information of all matched employees\n",
    "#if no matchng cases, print \"There is no employee matching the name you entered.\"\n",
    "#this function takes one argument, which is the emp_lst list (i.e. the list created previously which is used to store employee objects)\n",
    "#this function also returns a list of objects of the matched employees\n",
    "#no need to handle exceptions\n",
    "def run_option4(my_lst):\n",
    "    #type in your code"
   ]
  },
  {
   "cell_type": "code",
   "execution_count": 39,
   "metadata": {
    "scrolled": true
   },
   "outputs": [
    {
     "name": "stdout",
     "output_type": "stream",
     "text": [
      "\n",
      "Please enter the name of the emplyee you want to search:TOM\n",
      "==========================================================================\n",
      "Below is the information of all employees that match the name you entered.\n",
      "==========================================================================\n",
      "\n",
      "Details of this Consultant are:\n",
      "Employee Name: Tom; Employee Address: 800 W Campbell Road, Richardson, Texas, 75080\n",
      "Make: Mercedes-Benz; Model: GLE350; Year of Manufacture: 2018; Mileage: 30000\n",
      "Hours Worked: 50; Project Type: 2\n",
      "\n",
      "There are 1 employees matching your search.\n"
     ]
    }
   ],
   "source": [
    "#do a quick test on run_option4() function before moving forward (5 points)\n",
    "#don't change this code and please use the example input (all upper cases)\n",
    "#example input: TOM\n",
    "#part 1\n",
    "matched_emp_list=run_option4(emp_list)\n",
    "print(\"\\nThere are {} employees matching your search.\".format(len(matched_emp_list)))"
   ]
  },
  {
   "cell_type": "code",
   "execution_count": 41,
   "metadata": {},
   "outputs": [
    {
     "name": "stdout",
     "output_type": "stream",
     "text": [
      "\n",
      "Please enter the name of the emplyee you want to search:Hongchang\n",
      "There is no employee matching the name you entered.\n"
     ]
    },
    {
     "data": {
      "text/plain": [
       "[]"
      ]
     },
     "execution_count": 41,
     "metadata": {},
     "output_type": "execute_result"
    }
   ],
   "source": [
    "#do a quick test on run_option4() function before moving forward \n",
    "#don't change this code and please use the example input\n",
    "#example input: Hongchang\n",
    "#part 2\n",
    "run_option4(emp_list)"
   ]
  },
  {
   "cell_type": "code",
   "execution_count": 42,
   "metadata": {},
   "outputs": [],
   "source": [
    "#complete option 5 related code here\n",
    "#the function is used to show some basic statistics. They are: \n",
    "#(1) the number of employees stored in the database\n",
    "#(2) the highest weekly compensation\n",
    "#(3) the mean weekly compensation\n",
    "#(4) the number of employees who have a vehicle with over 100,000 mileage\n",
    "#this function takes one argument, which is the emp_lst list (i.e. the list created previously which is used to store employee objects)\n",
    "#this function doesn't return anything\n",
    "#no need to handle exceptions\n",
    "\n",
    "def run_option5(my_lst):\n",
    "    #type in your code"
   ]
  },
  {
   "cell_type": "code",
   "execution_count": 44,
   "metadata": {
    "scrolled": true
   },
   "outputs": [
    {
     "name": "stdout",
     "output_type": "stream",
     "text": [
      "\n",
      "========================================================\n",
      "Below is the statistics of all employees in this database.\n",
      "========================================================\n",
      "There are 9 emplyees stored in this employee database.\n",
      "The highist weekly compensation is $3500.00.\n",
      "The mean weekly compensation is: $1555.17.\n",
      "The number of employees who have a vehicle with over 100,000 mileage is 2.\n"
     ]
    }
   ],
   "source": [
    "#do a quick test on run_option5() function before moving forward (5 points)\n",
    "#don't change this code \n",
    "run_option5(emp_list)"
   ]
  },
  {
   "cell_type": "code",
   "execution_count": 45,
   "metadata": {},
   "outputs": [],
   "source": [
    "#complete option 6 related code here\n",
    "#the function is used to compute weekly reimbursement (assuming the user has the requirerd information)\n",
    "#the first step is to ask for the name of the employee (you can call run_option4() here)\n",
    "#the second step is to select one employee from the matched employees\n",
    "#the third step is to ask for required information \n",
    "#this function doesn't return anything\n",
    "#no need to handle exceptions\n",
    "def run_option6(emp_list):\n",
    "    matched_list=run_option4(emp_list)\n",
    "    choice=int(input(\"Which employee do you want to check (enter a number)?\"))\n",
    "    emp=matched_list[choice-1]\n",
    "    \n",
    "    #type in your code"
   ]
  },
  {
   "cell_type": "code",
   "execution_count": 46,
   "metadata": {
    "scrolled": true
   },
   "outputs": [
    {
     "name": "stdout",
     "output_type": "stream",
     "text": [
      "\n",
      "Please enter the name of the emplyee you want to search:bob\n",
      "==========================================================================\n",
      "Below is the information of all employees that match the name you entered.\n",
      "==========================================================================\n",
      "\n",
      "Details of this Full Time Employee are:\n",
      "Employee Name: Bob; Employee Address: 200 W Campbell Road, Richardson, Texas, 75080\n",
      "Make: Toyota; Model: Camry; Year of Manufacture: 2010; Mileage: 60000\n",
      "Salary: 80000.00\n",
      "Which employee do you want to check (enter a number)?1\n",
      "What is the annual expense?8000\n",
      "\n",
      "############################################################\n",
      "This employee should have a weekly reimbursement of $153.85.\n"
     ]
    }
   ],
   "source": [
    "#do a quick test on run_option6() function before moving forward (5 points)\n",
    "#don't change this code and please use the example input (all lower cases)\n",
    "#example input: bob;1;8000\n",
    "#part 1\n",
    "\n",
    "run_option6(emp_list)"
   ]
  },
  {
   "cell_type": "code",
   "execution_count": 47,
   "metadata": {},
   "outputs": [
    {
     "name": "stdout",
     "output_type": "stream",
     "text": [
      "\n",
      "Please enter the name of the emplyee you want to search:james\n",
      "==========================================================================\n",
      "Below is the information of all employees that match the name you entered.\n",
      "==========================================================================\n",
      "\n",
      "Details of this Hourly Employee are:\n",
      "Employee Name: James; Employee Address: 500 W Campbell Road, Richardson, Texas, 75080\n",
      "Make: Mazda; Model: Mazda3; Year of Manufacture: 2010; Mileage: 80000\n",
      "Hours Worked: 30; Hourly Rate: 25\n",
      "Which employee do you want to check (enter a number)?1\n",
      "What is the weekly expense?130\n",
      "\n",
      "############################################################\n",
      "This employee should have a weekly reimbursement of $100.00.\n"
     ]
    }
   ],
   "source": [
    "#do a quick test on run_option6() function before moving forward \n",
    "#don't change this code and please use the example input (all lower cases)\n",
    "#example input: james;1;130\n",
    "#part 2\n",
    "\n",
    "run_option6(emp_list)"
   ]
  },
  {
   "cell_type": "code",
   "execution_count": 50,
   "metadata": {},
   "outputs": [],
   "source": [
    "#complete option 7 related code here\n",
    "#the function is used to store changes into a new file/database (i.e. empdata_updated.dat) and exit the program\n",
    "#the first step is to double check with the user if he/she does want to exit (not case sensitive)\n",
    "#this function takes one argument, which is the emp_lst list (i.e. the list created previously which is used to store employee objects)\n",
    "#this function doesn't return anything\n",
    "#no need to handle exceptions\n",
    "\n",
    "import sys\n",
    "def run_option7(my_lst):\n",
    "    #type in your code"
   ]
  },
  {
   "cell_type": "code",
   "execution_count": 49,
   "metadata": {},
   "outputs": [
    {
     "name": "stdout",
     "output_type": "stream",
     "text": [
      "You chose to exit the program\n",
      "Are you sure (Y/N)? b\n",
      "\n",
      "\n",
      "Your input doesn't match any valid option and has been considered as 'N'.\n",
      "Going back to the selection menu.\n"
     ]
    }
   ],
   "source": [
    "#do a quick test on run_option7() function before moving forward (5 points)\n",
    "#don't change this code and please use the example input\n",
    "#example input: b\n",
    "#part 1\n",
    "run_option7(emp_list)"
   ]
  },
  {
   "cell_type": "code",
   "execution_count": 51,
   "metadata": {},
   "outputs": [
    {
     "name": "stdout",
     "output_type": "stream",
     "text": [
      "You chose to exit the program\n",
      "Are you sure (Y/N)? n\n",
      "\n",
      "\n",
      "=================================\n",
      "Going back to the selection menu.\n",
      "=================================\n"
     ]
    }
   ],
   "source": [
    "#do a quick test on run_option7() function before moving forward \n",
    "#don't change this code and please use the example input\n",
    "#example input: n\n",
    "#part 2\n",
    "run_option7(emp_list)"
   ]
  },
  {
   "cell_type": "code",
   "execution_count": 55,
   "metadata": {},
   "outputs": [
    {
     "name": "stdout",
     "output_type": "stream",
     "text": [
      "You chose to exit the program\n",
      "Are you sure (Y/N)? y\n",
      "\n",
      "\n",
      "=================================\n",
      "Program successfully being closed\n",
      "=================================\n"
     ]
    },
    {
     "ename": "SystemExit",
     "evalue": "",
     "output_type": "error",
     "traceback": [
      "An exception has occurred, use %tb to see the full traceback.\n",
      "\u001b[0;31mSystemExit\u001b[0m\n"
     ]
    }
   ],
   "source": [
    "#do a quick test on run_option7() function before moving forward \n",
    "#don't change this code and please use the example input\n",
    "#example input: y\n",
    "#part 3\n",
    "run_option7(emp_list)"
   ]
  },
  {
   "cell_type": "code",
   "execution_count": 63,
   "metadata": {},
   "outputs": [],
   "source": [
    "#complete the main application\n",
    "#the application menu provides 7 options\n",
    "#when user selects a valid option (except for 7), execute that option and come back to the menu again\n",
    "#need to handle exceptions when taking user's choice\n",
    "#this function doesn't tale any argument\n",
    "#it will work on the employ object list which is read from file empdata.dat\n",
    "def run_menu_options():\n",
    "    #read employee objects in to a list\n",
    "    emp_list = read_file_data()\n",
    "    \n",
    "    #display 7 options and ask users to select from them and execute the selection\n",
    "    sel = 1\n",
    "    while sel <=  7 and sel >= 1:\n",
    "        #display options\n",
    "        print(\"\\n==== Menu ====\")\n",
    "        print(\"1. To add an employee\")\n",
    "        print(\"2. To print the name and address of employees\")\n",
    "        print(\"3. To print the employee name and compensation of all employees\")\n",
    "        print(\"4. To search for employees by name\")\n",
    "        print(\"5. To check the basic statistics of employees\")\n",
    "        print(\"6. To calculate the reimbursement of one employee\")\n",
    "        print(\"7. To exit program\")\n",
    "        \n",
    "        #take selection input\n",
    "        \n",
    "        ##################\n",
    "        #type in your code\n",
    "        ##################\n",
    "        \n",
    "        #execute selection\n",
    "        if sel == 1:\n",
    "            emp_list.append(run_option1())\n",
    "        elif sel == 2:\n",
    "            run_option2(emp_list)\n",
    "        elif sel == 3:\n",
    "            run_option3(emp_list)\n",
    "        elif sel == 4:\n",
    "            run_option4(emp_list)\n",
    "        elif sel == 5:\n",
    "            run_option5(emp_list)\n",
    "        elif sel == 6:\n",
    "            run_option6(emp_list)\n",
    "        elif sel == 7:  \n",
    "            run_option7(emp_list)\n",
    "        else:\n",
    "            print(\"Invalid choice!\")"
   ]
  },
  {
   "cell_type": "code",
   "execution_count": 65,
   "metadata": {},
   "outputs": [
    {
     "name": "stdout",
     "output_type": "stream",
     "text": [
      "\n",
      "==== Menu ====\n",
      "1. To add an employee\n",
      "2. To print the name and address of employees\n",
      "3. To print the employee name and compensation of all employees\n",
      "4. To search for employees by name\n",
      "5. To check the basic statistics of employees\n",
      "6. To calculate the reimbursement of one employee\n",
      "7. To exit program\n",
      "Your selection is: 0\n",
      "\n",
      "=========================================\n",
      "You must enter an integer between 1 and 7!\n",
      "=========================================\n",
      "\n",
      "==== Menu ====\n",
      "1. To add an employee\n",
      "2. To print the name and address of employees\n",
      "3. To print the employee name and compensation of all employees\n",
      "4. To search for employees by name\n",
      "5. To check the basic statistics of employees\n",
      "6. To calculate the reimbursement of one employee\n",
      "7. To exit program\n",
      "Your selection is: 8\n",
      "\n",
      "=========================================\n",
      "You must enter an integer between 1 and 7!\n",
      "=========================================\n",
      "\n",
      "==== Menu ====\n",
      "1. To add an employee\n",
      "2. To print the name and address of employees\n",
      "3. To print the employee name and compensation of all employees\n",
      "4. To search for employees by name\n",
      "5. To check the basic statistics of employees\n",
      "6. To calculate the reimbursement of one employee\n",
      "7. To exit program\n",
      "Your selection is: zzz\n",
      "\n",
      "=========================================\n",
      "You must enter an integer between 1 and 7!\n",
      "=========================================\n",
      "\n",
      "==== Menu ====\n",
      "1. To add an employee\n",
      "2. To print the name and address of employees\n",
      "3. To print the employee name and compensation of all employees\n",
      "4. To search for employees by name\n",
      "5. To check the basic statistics of employees\n",
      "6. To calculate the reimbursement of one employee\n",
      "7. To exit program\n",
      "Your selection is: 7\n",
      "You chose to exit the program\n",
      "Are you sure (Y/N)? n\n",
      "\n",
      "\n",
      "=================================\n",
      "Going back to the selection menu.\n",
      "=================================\n",
      "\n",
      "==== Menu ====\n",
      "1. To add an employee\n",
      "2. To print the name and address of employees\n",
      "3. To print the employee name and compensation of all employees\n",
      "4. To search for employees by name\n",
      "5. To check the basic statistics of employees\n",
      "6. To calculate the reimbursement of one employee\n",
      "7. To exit program\n",
      "Your selection is: 7\n",
      "You chose to exit the program\n",
      "Are you sure (Y/N)? y\n",
      "\n",
      "\n",
      "=================================\n",
      "Program successfully being closed\n",
      "=================================\n"
     ]
    },
    {
     "ename": "SystemExit",
     "evalue": "",
     "output_type": "error",
     "traceback": [
      "An exception has occurred, use %tb to see the full traceback.\n",
      "\u001b[0;31mSystemExit\u001b[0m\n"
     ]
    }
   ],
   "source": [
    "#do a quick test run_menu_options() function before moving forward (5 points)\n",
    "#don't change this code and please use the example input\n",
    "#example inputs in this order: 0;8;zzz;7;n;7;y\n",
    "run_menu_options()"
   ]
  },
  {
   "cell_type": "code",
   "execution_count": 57,
   "metadata": {},
   "outputs": [
    {
     "name": "stdout",
     "output_type": "stream",
     "text": [
      "\n",
      "==== Menu ====\n",
      "1. To add an employee\n",
      "2. To print the name and address of employees\n",
      "3. To print the employee name and compensation of all employees\n",
      "4. To search for employees by name\n",
      "5. To check the basic statistics of employees\n",
      "6. To calculate the reimbursement of one employee\n",
      "7. To exit program\n",
      "Your selection is: 1\n",
      "Type of Employee?(1-Full Time;2-Hourly;3-Consultant;4-Management) : 4\n",
      "Enter the employee's name: David\n",
      "Enter the employee's address: 103 E Campbell Road, Richardson, Texas, 75080\n",
      "Enter the vehicle make: BMW\n",
      "Enter the vehicle model: X3\n",
      "Enter the year of manufacture (yyyy): 2018\n",
      "Enter the mileage: 5000\n",
      "Enter the annual salary: 110000\n",
      "Enter the hours worked: 5\n",
      "Project Type? (Enter a number between 1 and 3): 2\n",
      "\n",
      "Details of this Management are:\n",
      "Employee Name: David; Employee Address: 103 E Campbell Road, Richardson, Texas, 75080\n",
      "Make: BMW; Model: X3; Year of Manufacture: 2018; Mileage: 5000\n",
      "Salary: 110000.00; Hours Worked: 5; Project Type: 2\n",
      "\n",
      "============================================================\n",
      "New employee entered successfully! Now going to the main menu.\n",
      "==============================================================\n",
      "\n",
      "==== Menu ====\n",
      "1. To add an employee\n",
      "2. To print the name and address of employees\n",
      "3. To print the employee name and compensation of all employees\n",
      "4. To search for employees by name\n",
      "5. To check the basic statistics of employees\n",
      "6. To calculate the reimbursement of one employee\n",
      "7. To exit program\n",
      "Your selection is: 1\n",
      "Type of Employee?(1-Full Time;2-Hourly;3-Consultant;4-Management) : 4\n",
      "Enter the employee's name: Grace\n",
      "Enter the employee's address: 105 E Campbell Road, Richardson, Texas, 75080\n",
      "Enter the vehicle make: Porsche\n",
      "Enter the vehicle model: Cayenne\n",
      "Enter the year of manufacture (yyyy): 2019\n",
      "Enter the mileage: 3000\n",
      "Enter the annual salary: 150000\n",
      "Enter the hours worked: 8\n",
      "Project Type? (Enter a number between 1 and 3): 1\n",
      "\n",
      "Details of this Management are:\n",
      "Employee Name: Grace; Employee Address: 105 E Campbell Road, Richardson, Texas, 75080\n",
      "Make: Porsche; Model: Cayenne; Year of Manufacture: 2019; Mileage: 3000\n",
      "Salary: 150000.00; Hours Worked: 8; Project Type: 1\n",
      "\n",
      "============================================================\n",
      "New employee entered successfully! Now going to the main menu.\n",
      "==============================================================\n",
      "\n",
      "==== Menu ====\n",
      "1. To add an employee\n",
      "2. To print the name and address of employees\n",
      "3. To print the employee name and compensation of all employees\n",
      "4. To search for employees by name\n",
      "5. To check the basic statistics of employees\n",
      "6. To calculate the reimbursement of one employee\n",
      "7. To exit program\n",
      "Your selection is: 1\n",
      "Type of Employee?(1-Full Time;2-Hourly;3-Consultant;4-Management) : 4\n",
      "Enter the employee's name: Zoey\n",
      "Enter the employee's address: 107 E Campbell Road, Richardson, Texas, 75080\n",
      "Enter the vehicle make: Audi\n",
      "Enter the vehicle model: A3\n",
      "Enter the year of manufacture (yyyy): 2015\n",
      "Enter the mileage: 35000\n",
      "Enter the annual salary: 90000\n",
      "Enter the hours worked: 10\n",
      "Project Type? (Enter a number between 1 and 3): 3\n",
      "\n",
      "Details of this Management are:\n",
      "Employee Name: Zoey; Employee Address: 107 E Campbell Road, Richardson, Texas, 75080\n",
      "Make: Audi; Model: A3; Year of Manufacture: 2015; Mileage: 35000\n",
      "Salary: 90000.00; Hours Worked: 10; Project Type: 3\n",
      "\n",
      "============================================================\n",
      "New employee entered successfully! Now going to the main menu.\n",
      "==============================================================\n",
      "\n",
      "==== Menu ====\n",
      "1. To add an employee\n",
      "2. To print the name and address of employees\n",
      "3. To print the employee name and compensation of all employees\n",
      "4. To search for employees by name\n",
      "5. To check the basic statistics of employees\n",
      "6. To calculate the reimbursement of one employee\n",
      "7. To exit program\n",
      "Your selection is: 2\n",
      "Do you want to see information of all employees (input 1) or the first 5 employees (input 2)?1\n",
      "==========================================================\n",
      "Below is the information of all employees in the database.\n",
      "==========================================================\n",
      "\n",
      "Details of this Full Time Employee are:\n",
      "Employee Name: Amy; Employee Address: 100 W Campbell Road, Richardson, Texas, 75080\n",
      "Make: Honda; Model: Civic; Year of Manufacture: 2014; Mileage: 50000\n",
      "Salary: 40000.00\n",
      "\n",
      "Details of this Full Time Employee are:\n",
      "Employee Name: Bob; Employee Address: 200 W Campbell Road, Richardson, Texas, 75080\n",
      "Make: Toyota; Model: Camry; Year of Manufacture: 2010; Mileage: 60000\n",
      "Salary: 80000.00\n",
      "\n",
      "Details of this Full Time Employee are:\n",
      "Employee Name: Evan; Employee Address: 300 W Campbell Road, Richardson, Texas, 75080\n",
      "Make: BMW; Model: X3; Year of Manufacture: 2016; Mileage: 30000\n",
      "Salary: 120000.00\n",
      "\n",
      "Details of this Hourly Employee are:\n",
      "Employee Name: Grace; Employee Address: 400 W Campbell Road, Richardson, Texas, 75080\n",
      "Make: Kia; Model: Rio; Year of Manufacture: 2005; Mileage: 150000\n",
      "Hours Worked: 50; Hourly Rate: 20\n",
      "\n",
      "Details of this Hourly Employee are:\n",
      "Employee Name: James; Employee Address: 500 W Campbell Road, Richardson, Texas, 75080\n",
      "Make: Mazda; Model: Mazda3; Year of Manufacture: 2010; Mileage: 80000\n",
      "Hours Worked: 30; Hourly Rate: 25\n",
      "\n",
      "Details of this Hourly Employee are:\n",
      "Employee Name: Luna; Employee Address: 600 W Campbell Road, Richardson, Texas, 75080\n",
      "Make: Nissan; Model: Sentra; Year of Manufacture: 2005; Mileage: 160000\n",
      "Hours Worked: 20; Hourly Rate: 15\n",
      "\n",
      "Details of this Consultant are:\n",
      "Employee Name: Michael; Employee Address: 700 W Campbell Road, Richardson, Texas, 75080\n",
      "Make: Ford; Model: Ranger; Year of Manufacture: 2011; Mileage: 80000\n",
      "Hours Worked: 40; Project Type: 1\n",
      "\n",
      "Details of this Consultant are:\n",
      "Employee Name: Tom; Employee Address: 800 W Campbell Road, Richardson, Texas, 75080\n",
      "Make: Mercedes-Benz; Model: GLE350; Year of Manufacture: 2018; Mileage: 30000\n",
      "Hours Worked: 50; Project Type: 2\n",
      "\n",
      "Details of this Consultant are:\n",
      "Employee Name: Zoey; Employee Address: 900 W Campbell Road, Richardson, Texas, 75080\n",
      "Make: Tesla; Model: Model3; Year of Manufacture: 2018; Mileage: 15000\n",
      "Hours Worked: 30; Project Type: 3\n",
      "\n",
      "Details of this Management are:\n",
      "Employee Name: David; Employee Address: 103 E Campbell Road, Richardson, Texas, 75080\n",
      "Make: BMW; Model: X3; Year of Manufacture: 2018; Mileage: 5000\n",
      "Salary: 110000.00; Hours Worked: 5; Project Type: 2\n",
      "\n",
      "Details of this Management are:\n",
      "Employee Name: Grace; Employee Address: 105 E Campbell Road, Richardson, Texas, 75080\n",
      "Make: Porsche; Model: Cayenne; Year of Manufacture: 2019; Mileage: 3000\n",
      "Salary: 150000.00; Hours Worked: 8; Project Type: 1\n",
      "\n",
      "Details of this Management are:\n",
      "Employee Name: Zoey; Employee Address: 107 E Campbell Road, Richardson, Texas, 75080\n",
      "Make: Audi; Model: A3; Year of Manufacture: 2015; Mileage: 35000\n",
      "Salary: 90000.00; Hours Worked: 10; Project Type: 3\n",
      "\n",
      "==== Menu ====\n",
      "1. To add an employee\n",
      "2. To print the name and address of employees\n",
      "3. To print the employee name and compensation of all employees\n",
      "4. To search for employees by name\n",
      "5. To check the basic statistics of employees\n",
      "6. To calculate the reimbursement of one employee\n",
      "7. To exit program\n",
      "Your selection is: 3\n",
      "\n",
      "Employee name and Compensation of all Employees\n",
      "=================================================\n",
      "Amy's weekly compensation is $630.77\n",
      "Bob's weekly compensation is $1194.23\n",
      "Evan's weekly compensation is $1711.54\n",
      "Grace's weekly compensation is $1160.00\n",
      "James's weekly compensation is $750.00\n",
      "Luna's weekly compensation is $300.00\n",
      "Michael's weekly compensation is $2200.00\n",
      "Tom's weekly compensation is $3500.00\n",
      "Zoey's weekly compensation is $2550.00\n",
      "David's weekly compensation is $1932.69\n",
      "Grace's weekly compensation is $2538.08\n",
      "Zoey's weekly compensation is $2175.00\n",
      "\n",
      "==== Menu ====\n",
      "1. To add an employee\n",
      "2. To print the name and address of employees\n",
      "3. To print the employee name and compensation of all employees\n",
      "4. To search for employees by name\n",
      "5. To check the basic statistics of employees\n",
      "6. To calculate the reimbursement of one employee\n",
      "7. To exit program\n",
      "Your selection is: 4\n",
      "\n",
      "Please enter the name of the emplyee you want to search:grace\n",
      "==========================================================================\n",
      "Below is the information of all employees that match the name you entered.\n",
      "==========================================================================\n",
      "\n",
      "Details of this Hourly Employee are:\n",
      "Employee Name: Grace; Employee Address: 400 W Campbell Road, Richardson, Texas, 75080\n",
      "Make: Kia; Model: Rio; Year of Manufacture: 2005; Mileage: 150000\n",
      "Hours Worked: 50; Hourly Rate: 20\n",
      "\n",
      "Details of this Management are:\n",
      "Employee Name: Grace; Employee Address: 105 E Campbell Road, Richardson, Texas, 75080\n",
      "Make: Porsche; Model: Cayenne; Year of Manufacture: 2019; Mileage: 3000\n",
      "Salary: 150000.00; Hours Worked: 8; Project Type: 1\n",
      "\n",
      "==== Menu ====\n",
      "1. To add an employee\n",
      "2. To print the name and address of employees\n",
      "3. To print the employee name and compensation of all employees\n",
      "4. To search for employees by name\n",
      "5. To check the basic statistics of employees\n",
      "6. To calculate the reimbursement of one employee\n",
      "7. To exit program\n"
     ]
    },
    {
     "name": "stdout",
     "output_type": "stream",
     "text": [
      "Your selection is: 5\n",
      "\n",
      "========================================================\n",
      "Below is the statistics of all employees in this database.\n",
      "========================================================\n",
      "There are 12 emplyees stored in this employee database.\n",
      "The highist weekly compensation is $3500.00.\n",
      "The mean weekly compensation is: $1720.19.\n",
      "The number of employees who have a vehicle with over 100,000 mileage is 2.\n",
      "\n",
      "==== Menu ====\n",
      "1. To add an employee\n",
      "2. To print the name and address of employees\n",
      "3. To print the employee name and compensation of all employees\n",
      "4. To search for employees by name\n",
      "5. To check the basic statistics of employees\n",
      "6. To calculate the reimbursement of one employee\n",
      "7. To exit program\n",
      "Your selection is: 6\n",
      "\n",
      "Please enter the name of the emplyee you want to search:ZOEY\n",
      "==========================================================================\n",
      "Below is the information of all employees that match the name you entered.\n",
      "==========================================================================\n",
      "\n",
      "Details of this Consultant are:\n",
      "Employee Name: Zoey; Employee Address: 900 W Campbell Road, Richardson, Texas, 75080\n",
      "Make: Tesla; Model: Model3; Year of Manufacture: 2018; Mileage: 15000\n",
      "Hours Worked: 30; Project Type: 3\n",
      "\n",
      "Details of this Management are:\n",
      "Employee Name: Zoey; Employee Address: 107 E Campbell Road, Richardson, Texas, 75080\n",
      "Make: Audi; Model: A3; Year of Manufacture: 2015; Mileage: 35000\n",
      "Salary: 90000.00; Hours Worked: 10; Project Type: 3\n",
      "Which employee do you want to check (enter a number)?1\n",
      "What is the weekly expense?120\n",
      "\n",
      "############################################################\n",
      "This employee should have a weekly reimbursement of $96.00.\n",
      "\n",
      "==== Menu ====\n",
      "1. To add an employee\n",
      "2. To print the name and address of employees\n",
      "3. To print the employee name and compensation of all employees\n",
      "4. To search for employees by name\n",
      "5. To check the basic statistics of employees\n",
      "6. To calculate the reimbursement of one employee\n",
      "7. To exit program\n",
      "Your selection is: 7\n",
      "You chose to exit the program\n",
      "Are you sure (Y/N)? y\n",
      "\n",
      "\n",
      "=================================\n",
      "Program successfully being closed\n",
      "=================================\n"
     ]
    },
    {
     "ename": "SystemExit",
     "evalue": "",
     "output_type": "error",
     "traceback": [
      "An exception has occurred, use %tb to see the full traceback.\n",
      "\u001b[0;31mSystemExit\u001b[0m\n"
     ]
    }
   ],
   "source": [
    "#here comes the main test, which is splitted into several steps (20 points in total)\n",
    "\n",
    "#step 1: choose option 1 three times and enter the following three employees (5 points)\n",
    "#type 4 employee: David; 103 E Campbell Road, Richardson, Texas, 75080; BMW; X3; 2018;5000;110000;5;2\n",
    "#type 4 employee: Grace; 105 E Campbell Road, Richardson, Texas, 75080; Porsche; Cayenne; 2019;3000;150000;8;1\n",
    "#type 4 employee: Zoey; 107 E Campbell Road, Richardson, Texas, 75080; Audi; A3; 2015;35000;90000;10;3\n",
    "\n",
    "#step 2: choose option 2\n",
    "#then choose 1\n",
    "\n",
    "#step 3:choose option 3 (5 points)\n",
    "\n",
    "#step 4:choose option 4 \n",
    "#then type in: grace (all lower cases)\n",
    "\n",
    "#step 5:choose option 5 (5 points)\n",
    "\n",
    "#step 6:choose option 6 (5 points)\n",
    "#then type in: ZOEY (all upper cases); then 1; then 120\n",
    "\n",
    "#step 7:choose option 7\n",
    "#then type in: y\n",
    "run_menu_options()"
   ]
  }
 ],
 "metadata": {
  "kernelspec": {
   "display_name": "Python 3",
   "language": "python",
   "name": "python3"
  },
  "language_info": {
   "codemirror_mode": {
    "name": "ipython",
    "version": 3
   },
   "file_extension": ".py",
   "mimetype": "text/x-python",
   "name": "python",
   "nbconvert_exporter": "python",
   "pygments_lexer": "ipython3",
   "version": "3.7.4"
  }
 },
 "nbformat": 4,
 "nbformat_minor": 2
}
