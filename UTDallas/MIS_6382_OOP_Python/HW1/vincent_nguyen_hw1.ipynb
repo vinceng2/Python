{
 "cells": [
  {
   "cell_type": "code",
   "execution_count": 13,
   "metadata": {},
   "outputs": [
    {
     "name": "stdout",
     "output_type": "stream",
     "text": [
      "Please enter the first number: 18\n",
      "Please enter the second number: 15.5\n",
      "Please enter the third number: 20\n",
      "The sum of the three numbers is 53.5\n"
     ]
    }
   ],
   "source": [
    "# Q1\n",
    "\n",
    "# Input the first two numbers as integer \n",
    "first_num = float(input('Please enter the first number: '))\n",
    "second_num = float(input('Please enter the second number: '))\n",
    "\n",
    "# Input the third number as a float\n",
    "third_num = float(input('Please enter the third number: '))\n",
    "\n",
    "# Formula to add the first, second, and third number: final_answer\n",
    "final_answer = first_num + second_num + third_num\n",
    "\n",
    "# Print the sum of all three numbers\n",
    "print('The sum of the three numbers is {0}'.format(final_answer))"
   ]
  },
  {
   "cell_type": "code",
   "execution_count": 14,
   "metadata": {},
   "outputs": [
    {
     "name": "stdout",
     "output_type": "stream",
     "text": [
      "-65576.525\n",
      "<class 'float'>\n"
     ]
    }
   ],
   "source": [
    "# Q2\n",
    "\n",
    "# Define variables \n",
    "a = 12\n",
    "b = 16\n",
    "\n",
    "# Formula \n",
    "x = (a/b) * 15.3 - 16 ** 4 - 84 + (96/3)\n",
    "\n",
    "# Print the value of x\n",
    "print(x) # x = -65,576.525\n",
    "\n",
    "# Print the type of x\n",
    "print(type(x)) # It is a float "
   ]
  },
  {
   "cell_type": "code",
   "execution_count": 8,
   "metadata": {},
   "outputs": [
    {
     "name": "stdout",
     "output_type": "stream",
     "text": [
      "a \n",
      "b\n",
      "c\n",
      "d\n",
      "e\n",
      "f\n",
      "g\n"
     ]
    }
   ],
   "source": [
    "# Q3\n",
    "print('a \\nb\\nc\\nd\\ne\\nf\\ng')"
   ]
  },
  {
   "cell_type": "code",
   "execution_count": 10,
   "metadata": {},
   "outputs": [
    {
     "name": "stdout",
     "output_type": "stream",
     "text": [
      "The statement string 'good' is in string 'thatisnotbad' is False\n",
      "The statemennt string 'good' is in string 'thisisgood' is True\n",
      "The statement string 'good' is in both string 'thatisnotbad' and string 'thisisgood' is False\n"
     ]
    }
   ],
   "source": [
    "# Q4 - Using membership operators \n",
    "\n",
    "# Define variables\n",
    "\n",
    "# Is good in thatisnotbad?\n",
    "good_in_thatisnotbad = 'good' in 'thatisnotbad' \n",
    "\n",
    "# Is good in thisisgood?\n",
    "good_in_thisisgood = 'good' in 'thisisgood' \n",
    "\n",
    "# Is good in both thatisnotbad and thisisgood?\n",
    "good_in_both_statements = good_in_thatisnotbad & good_in_thisisgood \n",
    "\n",
    "# Print the statement if good is in thatisnotbad\n",
    "print(\"The statement string 'good' is in string 'thatisnotbad' is {0}\".format(good_in_thatisnotbad))\n",
    "\n",
    "# Print the statement if good is in thisisgood\n",
    "print(\"The statemennt string 'good' is in string 'thisisgood' is {0}\".format(good_in_thisisgood))\n",
    "\n",
    "# Print the statement if good is in both thatisnotbad and thisisgood\n",
    "print(\"The statement string 'good' is in both string 'thatisnotbad' and string 'thisisgood' is {0}\".format(good_in_both_statements))"
   ]
  },
  {
   "cell_type": "code",
   "execution_count": 6,
   "metadata": {},
   "outputs": [
    {
     "name": "stdout",
     "output_type": "stream",
     "text": [
      "The statement string 'good' is in string 'thatisnotbad' is False\n",
      "The statement string 'good' is in string 'thisisgood' is True\n",
      "The statement that string 'good' is in both string 'thatisnotbad' and string 'thisisgood' is False\n"
     ]
    }
   ],
   "source": [
    "# Q4 - Alternative way with using if-else statements\n",
    "\n",
    "# Define strings\n",
    "str1 = 'thatisnotbad'\n",
    "str2 = 'thisisgood'\n",
    "\n",
    "# If 'good'  is in string 'thatisnotbad' then print true\n",
    "if 'good' in str1:\n",
    "    print(\"The statement string 'good' is in string 'thatisnotbad' is True\")\n",
    "\n",
    "# Else, print false\n",
    "else:\n",
    "    print(\"The statement string 'good' is in string 'thatisnotbad' is False\")\n",
    "\n",
    "# If not, check if 'good' is in 'thisisgood' then print true \n",
    "if 'good' in str2:\n",
    "    print(\"The statement string 'good' is in string 'thisisgood' is True\")\n",
    "\n",
    "# Else, print false \n",
    "else:\n",
    "    print(\"The statement string 'good' is in string 'thisisgood' is False\")\n",
    "   \n",
    "# If 'good' is in both 'thatisnotbad' and 'thisisgood' then print true\n",
    "if ('good' in str1 and 'good' in str2):\n",
    "    print(\"The statement that string 'good' is in both string 'thatisnotbad' and string 'thisisgood' is True\")\n",
    "\n",
    "# Else, print false \n",
    "else:\n",
    "    print(\"The statement that string 'good' is in both string 'thatisnotbad' and string 'thisisgood' is False\")\n"
   ]
  },
  {
   "cell_type": "code",
   "execution_count": 11,
   "metadata": {},
   "outputs": [
    {
     "name": "stdout",
     "output_type": "stream",
     "text": [
      "Joe paid $32870.0 for the stock\n",
      "Joe paid his broker when he bought the stock $657.4\n",
      "Joe paid a total of $33527.4 after purchasing the stock\n",
      "Joe sold the stock for $33920.0\n",
      "Joe paid his broker $678.4 when he sold the stock\n",
      "Joe netted $33241.6 after selling the stock and paying his broker\n",
      "Joe loss $-285.8 after the purchase and sale of the stock\n"
     ]
    }
   ],
   "source": [
    "# Q5\n",
    "\n",
    "# Define variables\n",
    "num_shares_purchased = 1000\n",
    "initial_share_price = 32.87\n",
    "commission_percent_paid = 0.02\n",
    "num_shares_sold = 1000\n",
    "share_price_sold = 33.92\n",
    "\n",
    "# Formulas\n",
    "\n",
    "# The amount of money Joe paid for the stock: amount_paid_for_stock\n",
    "amount_paid_for_stock = num_shares_purchased * initial_share_price\n",
    "\n",
    "# The amount of commission Joe paid his broker when he bought the stock: amount_commission_paid\n",
    "amount_commission_paid = amount_paid_for_stock * commission_percent_paid\n",
    "\n",
    "# The total amount of money Joe paid for the stock including the commission: total_amount_paid_for_stock\n",
    "total_amount_paid_for_stock = amount_paid_for_stock + amount_commission_paid\n",
    "\n",
    "# The amount that Joe sold the stock for: amount_sold_for_stock\n",
    "amount_sold_for_stock = num_shares_sold * share_price_sold\n",
    "\n",
    "# The amount of commission Joe paid his broker when he sold the stock\n",
    "amount_commission_sold = amount_sold_for_stock * commission_percent_paid\n",
    "\n",
    "# The amount that Joe sold for minus the amount of commission Joe paid his broker: net_amount_sold_stock\n",
    "net_amount_sold_stock = amount_sold_for_stock - amount_commission_sold\n",
    "\n",
    "# The amount of profit or loss that Joe made after the purchase and sale of the stock \n",
    "profit = net_amount_sold_stock - total_amount_paid_for_stock\n",
    "\n",
    "# Summary \n",
    "print('Joe paid ${0} for the stock'.format(amount_paid_for_stock))\n",
    "print('Joe paid his broker when he bought the stock ${0}'.format(amount_commission_paid))\n",
    "print('Joe paid a total of ${0} after purchasing the stock'.format(total_amount_paid_for_stock))\n",
    "print('Joe sold the stock for ${0}'.format(amount_sold_for_stock))\n",
    "print('Joe paid his broker ${0} when he sold the stock'.format(amount_commission_sold))\n",
    "print('Joe netted ${0} after selling the stock and paying his broker'.format(net_amount_sold_stock))\n",
    "print('Joe loss ${0} after the purchase and sale of the stock'.format(round(profit,2)))"
   ]
  },
  {
   "cell_type": "code",
   "execution_count": null,
   "metadata": {},
   "outputs": [],
   "source": []
  }
 ],
 "metadata": {
  "kernelspec": {
   "display_name": "Python 3",
   "language": "python",
   "name": "python3"
  },
  "language_info": {
   "codemirror_mode": {
    "name": "ipython",
    "version": 3
   },
   "file_extension": ".py",
   "mimetype": "text/x-python",
   "name": "python",
   "nbconvert_exporter": "python",
   "pygments_lexer": "ipython3",
   "version": "3.7.4"
  }
 },
 "nbformat": 4,
 "nbformat_minor": 2
}
