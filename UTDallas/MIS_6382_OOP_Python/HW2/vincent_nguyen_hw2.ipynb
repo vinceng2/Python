{
 "cells": [
  {
   "cell_type": "code",
   "execution_count": 1,
   "metadata": {},
   "outputs": [
    {
     "name": "stdout",
     "output_type": "stream",
     "text": [
      "Enter a positive integer: 10\n",
      "The sum of the first 10 positive integers is 55\n"
     ]
    }
   ],
   "source": [
    "# Q1: Write a python program to sum of the first n positive integers after accepting the value of n from the user.\n",
    "\n",
    "# Ask the user to enter a positive integer\n",
    "n = int(input(\"Enter a positive integer: \"))\n",
    "\n",
    "# If the integer is less than or equal to zero, print you have entered an invalid number\n",
    "if n <= 0:\n",
    "    print(\"You have entered an invalid number. Exiting the program\")\n",
    "\n",
    "# Else, set the sum total to zero\n",
    "else:\n",
    "    total_sum = 0\n",
    "    \n",
    "    # Loop over i from one to the integer the user inputted and add i to total\n",
    "    for i in range(1, n+1):\n",
    "        total_sum += i\n",
    "    \n",
    "    # Print the sum of the first n positive integers is the following total\n",
    "    print(f\"The sum of the first {n} positive integers is {total_sum}\")"
   ]
  },
  {
   "cell_type": "code",
   "execution_count": 2,
   "metadata": {},
   "outputs": [
    {
     "name": "stdout",
     "output_type": "stream",
     "text": [
      "Enter a positive integer: 15\n",
      "15 is a prime number\n"
     ]
    }
   ],
   "source": [
    "# Q2: Write a python program that requests a positive integer from the user, determines if it is a prime, composite or neither prime or composite and prints the message\n",
    "\n",
    "# Define the prime number function: prime_num\n",
    "def prime_num(num):\n",
    "    \n",
    "    # If the number equals to one, return False \n",
    "    if num == 1:\n",
    "        return False\n",
    "    \n",
    "    # Loop over x in the range starting from two to the user input number\n",
    "    for x in range(2, num):\n",
    "        \n",
    "        # Check if the number is divisble by x returns the reaminder of zero \n",
    "        if num % x == 0:\n",
    "            return False\n",
    "        return True\n",
    "\n",
    "# Define the main function: main\n",
    "def main():\n",
    "    \n",
    "    # Ask the user to input a positive integer\n",
    "    n = int(input(\"Enter a positive integer: \"))\n",
    "    \n",
    "    # Check if the user entered zero or one\n",
    "    if (n == 0 or n == 1):\n",
    "        \n",
    "        # Print the input if neither prime or composite\n",
    "        print(f\"{n} is neither prime or composite\")\n",
    "    \n",
    "    # If the input is not zero or one, use the prime function to check if the integer is a prime number\n",
    "    elif (prime_num(n)):\n",
    "        print(f\"{n} is a prime number\")\n",
    "    \n",
    "    # Else, the integer is a composite number\n",
    "    else:\n",
    "        print(f\"{n} is a composite number\")\n",
    "\n",
    "# Call the function main() to prompt the user to enter an integer\n",
    "main()"
   ]
  },
  {
   "cell_type": "code",
   "execution_count": 12,
   "metadata": {},
   "outputs": [
    {
     "name": "stdout",
     "output_type": "stream",
     "text": [
      "Enter x1: 15\n",
      "Enter y1: 15\n",
      "Enter x2: 25\n",
      "Enter y2: 25\n",
      "Enter x: 5\n",
      "Enter y: 11\n",
      "False\n"
     ]
    }
   ],
   "source": [
    "# Q3: Write a program that takes as input two opposite corners of a rectangle: (x1,y1) and (x2,y2). \n",
    "# Assume the sides of the rectangle are parallel to the x and y axes. \n",
    "# Finally, the user is prompted for the coordinates of a third point (x,y). \n",
    "# The program should print Boolean value True or False based on whether the point (x,y) lies INSIDE the rectangle. \n",
    "# If the point lies ON or OUTSIDE the rectangle, the program should print False.\n",
    "\n",
    "# Prompt the user to enter x1, y1, x2, y2, x, and y\n",
    "x1 = float(input(\"Enter x1: \"))\n",
    "y1 = float(input(\"Enter y1: \"))\n",
    "x2 = float(input(\"Enter x2: \"))\n",
    "y2 = float(input(\"Enter y2: \"))\n",
    "\n",
    "# If the coordinates (x1, y1) and (x2, y2) do not form a rectangle, print the following statement\n",
    "if (x1 == x2 or y1 == y2):\n",
    "    print(\"You have entered two points that failed to create a rectangle. Exiting the program\")\n",
    "\n",
    "# Else, prompt the user to enter the (x, y) coordinates since (x1, y1) and (x2, y2) creates a rectangle\n",
    "else:\n",
    "    x = float(input(\"Enter x: \"))\n",
    "    y = float(input(\"Enter y: \")) \n",
    "    \n",
    "    # Check if (x,y) lie within the rectangle and print the results\n",
    "    result = (((x2 > x > x1) or (x1 > x > x2)) and ((y2 > y > y1) or (y1 > y > y2)))\n",
    "    print(result)"
   ]
  },
  {
   "cell_type": "code",
   "execution_count": 10,
   "metadata": {},
   "outputs": [
    {
     "name": "stdout",
     "output_type": "stream",
     "text": [
      "Enter a positive integer: 10\n",
      "The square of 1 is 1\n",
      "The square of 2 is 4\n",
      "The square of 3 is 9\n",
      "The square of 4 is 16\n",
      "The square of 5 is 25\n",
      "The square of 6 is 36\n",
      "The square of 7 is 49\n",
      "The square of 8 is 64\n",
      "The square of 9 is 81\n",
      "The square of 10 is 100\n"
     ]
    }
   ],
   "source": [
    "# Q4: Write a Python function called print_square() that accepts an integer as input and prints out the square of all numbers between 1 and that integer (both included). \n",
    "# Then call the function from main() to get the value of n from the user.\n",
    "\n",
    "# Define the function print_square(): print_square\n",
    "def print_square(input_num):\n",
    "    \n",
    "    # Loop over i in the range starting from one to the integer the user entered\n",
    "    for i in range(1, input_num + 1):\n",
    "        \n",
    "        # Print the square of the integer entered is squared value while calculating the squared value\n",
    "        print(f\"The square of {i} is {i ** 2}\")\n",
    "\n",
    "# Define the function main(): main\n",
    "def main():\n",
    "\n",
    "    # Ask the user to input a positive integer: n\n",
    "    input_num = int(input(\"Enter a positive integer: \"))\n",
    "    \n",
    "    # Check if the integer is less than or equal to zero, and print the statement below if that is the case\n",
    "    if input_num <= 0:\n",
    "        print(\"You have entered an invalid number. Exiting the program\")\n",
    "        \n",
    "    # Else, print the square of the integer by leveraging the function\n",
    "    else:\n",
    "        print_square(input_num)\n",
    "        \n",
    "# Call the function main() to prompt the user to enter an integer\n",
    "main()"
   ]
  },
  {
   "cell_type": "code",
   "execution_count": null,
   "metadata": {},
   "outputs": [],
   "source": []
  },
  {
   "cell_type": "code",
   "execution_count": null,
   "metadata": {},
   "outputs": [],
   "source": []
  }
 ],
 "metadata": {
  "kernelspec": {
   "display_name": "Python 3",
   "language": "python",
   "name": "python3"
  },
  "language_info": {
   "codemirror_mode": {
    "name": "ipython",
    "version": 3
   },
   "file_extension": ".py",
   "mimetype": "text/x-python",
   "name": "python",
   "nbconvert_exporter": "python",
   "pygments_lexer": "ipython3",
   "version": "3.7.4"
  }
 },
 "nbformat": 4,
 "nbformat_minor": 2
}
